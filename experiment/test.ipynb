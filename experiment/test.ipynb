{
 "cells": [
  {
   "cell_type": "code",
   "execution_count": 136,
   "metadata": {},
   "outputs": [],
   "source": [
    "import os \n",
    "import json\n",
    "import pandas as pd\n",
    "import traceback\n",
    "import PyPDF2"
   ]
  },
  {
   "cell_type": "code",
   "execution_count": 9,
   "metadata": {},
   "outputs": [
    {
     "data": {
      "text/plain": [
       "True"
      ]
     },
     "execution_count": 9,
     "metadata": {},
     "output_type": "execute_result"
    }
   ],
   "source": [
    "from dotenv import load_dotenv\n",
    "\n",
    "load_dotenv()"
   ]
  },
  {
   "cell_type": "code",
   "execution_count": 3,
   "metadata": {},
   "outputs": [],
   "source": [
    "from langchain.chat_models import ChatOpenAI"
   ]
  },
  {
   "cell_type": "code",
   "execution_count": 11,
   "metadata": {},
   "outputs": [],
   "source": [
    "key = os.getenv('OPENAI_API_KEY')"
   ]
  },
  {
   "cell_type": "code",
   "execution_count": 12,
   "metadata": {},
   "outputs": [],
   "source": [
    "llm = ChatOpenAI(openai_api_key = key,model_name = 'gpt-3.5-turbo',temperature = 0.3)"
   ]
  },
  {
   "cell_type": "code",
   "execution_count": 19,
   "metadata": {},
   "outputs": [],
   "source": [
    "from langchain import PromptTemplate, LLMChain, OpenAI\n",
    "from langchain.chains import SequentialChain\n",
    "from langchain.callbacks import get_openai_callback"
   ]
  },
  {
   "cell_type": "code",
   "execution_count": 55,
   "metadata": {},
   "outputs": [],
   "source": [
    "RESPONSE_JSON = {\n",
    "    \n",
    "    '1' : {\n",
    "        \n",
    "        'question' : 'the mcq question',\n",
    "        'options' : {\n",
    "            \n",
    "            'A' : 'choice here',\n",
    "            'B' : 'choice here',\n",
    "            'C' : 'choice here',\n",
    "            'D' : 'choice here'\n",
    "        },\n",
    "        'correct' : 'correct choice'\n",
    "    },\n",
    "    \n",
    "    '2' : {\n",
    "        \n",
    "        'question' : 'the mcq question',\n",
    "        'options' : {\n",
    "            \n",
    "            'A' : 'choice here',\n",
    "            'B' : 'choice here',\n",
    "            'C' : 'choice here',\n",
    "            'D' : 'choice here'\n",
    "        },\n",
    "        'correct' : 'correct choice'\n",
    "    },\n",
    "    \n",
    "    '3' : {\n",
    "        \n",
    "        'question' : 'the mcq question',\n",
    "        'options' : {\n",
    "            \n",
    "            'A' : 'choice here',\n",
    "            'B' : 'choice here',\n",
    "            'C' : 'choice here',\n",
    "            'D' : 'choice here'\n",
    "        },\n",
    "        'correct' : 'correct choice'\n",
    "    },\n",
    "    \n",
    "    '4' : {\n",
    "        \n",
    "        'question' : 'the mcq question',\n",
    "        'options' : {\n",
    "            \n",
    "            'A' : 'choice here',\n",
    "            'B' : 'choice here',\n",
    "            'C' : 'choice here',\n",
    "            'D' : 'choice here'\n",
    "        },\n",
    "        'correct' : 'correct choice'\n",
    "    }\n",
    "}"
   ]
  },
  {
   "cell_type": "code",
   "execution_count": 87,
   "metadata": {},
   "outputs": [],
   "source": [
    "Template = '''\n",
    "\n",
    "You are a helpful MCQ Generater and u have been given a text : {text},\n",
    "\n",
    "You have to generate {number} mcq questions on {subject} and \n",
    "level of difficulty should be {level} .\n",
    "\n",
    "The response should be kept the way it is given in RESPONSE_JSON and use it as guide\n",
    "\n",
    "### RESPONSE_JSON\n",
    "\n",
    "{response_json}'''"
   ]
  },
  {
   "cell_type": "code",
   "execution_count": 88,
   "metadata": {},
   "outputs": [],
   "source": [
    "prompt = PromptTemplate(\n",
    "    \n",
    "    input_variables = ['text','number','subject','level','response_json'],\n",
    "    template = Template\n",
    ")"
   ]
  },
  {
   "cell_type": "code",
   "execution_count": 89,
   "metadata": {},
   "outputs": [],
   "source": [
    "quiz_chain = LLMChain(llm = llm,prompt = prompt,output_key = 'quiz')"
   ]
  },
  {
   "cell_type": "code",
   "execution_count": 90,
   "metadata": {},
   "outputs": [],
   "source": [
    "Template2 = '''\n",
    "\n",
    "Quiz : {quiz} ,\n",
    "\n",
    "U are an english grammerian and writer \n",
    "Task : Ur task is to analyse the complexity of the quiz questions in the given quiz \n",
    "based on the complexity level you are seeing in the quiz for the given subject : {subject},\n",
    "\n",
    "If the quiz doesn't fit with the cognitve abiltiy of the student then just change the \n",
    "questions in the quiz and difficulty level of the quiz to make it fit\n",
    "'''"
   ]
  },
  {
   "cell_type": "code",
   "execution_count": 91,
   "metadata": {},
   "outputs": [],
   "source": [
    "# to check the complexity of the quiz\n",
    "\n",
    "complex_prompt = PromptTemplate(\n",
    "    \n",
    "    input_variables = ['quiz','subject'],\n",
    "    template = Template2\n",
    ")"
   ]
  },
  {
   "cell_type": "code",
   "execution_count": 92,
   "metadata": {},
   "outputs": [],
   "source": [
    "complex_chain = LLMChain(llm = llm, prompt = complex_prompt, output_key = 'complexity')"
   ]
  },
  {
   "cell_type": "code",
   "execution_count": 93,
   "metadata": {},
   "outputs": [],
   "source": [
    "final_chain = SequentialChain(chains = [quiz_chain, complex_chain], input_variables = ['text','number','subject','level','response_json'],output_variables = ['quiz','complexity'])"
   ]
  },
  {
   "cell_type": "code",
   "execution_count": 94,
   "metadata": {},
   "outputs": [],
   "source": [
    "file_path = 'D:\\Project\\data.txt'"
   ]
  },
  {
   "cell_type": "code",
   "execution_count": 95,
   "metadata": {},
   "outputs": [],
   "source": [
    "with open(file_path,'r') as file:\n",
    "    file_data = file.read()"
   ]
  },
  {
   "cell_type": "code",
   "execution_count": 96,
   "metadata": {},
   "outputs": [
    {
     "data": {
      "text/plain": [
       "'Levels of Thinking\\nCarol Gilligan states that the post-conventional level of moral thinking can be dealt based on the\\xa0two types of thinking. Gilligan’s theory is based on the two main ideas, the care-based morality (usually found in women) and the justice-based morality (usually found in men).\\n\\nCare-based Morality\\nCare-based morality is the kind of thinking found in women. This is based on the following principles.\\nMore emphasis is given to inter-connected relationships and universality.\\nActing justly focuses on avoidance of violence.\\nWomen with this are usually interested in helping others.\\nMore common in girls because of their connections to their mothers.\\nBecause girls remain connected to their mothers, they are less inclined to worry about issues of fairness.\\n\\nJustice-based Morality\\nJustice-based morality is the kind of thinking found in men. This is based on the following principles.\\nThey view the world as being composed of autonomous individuals who interact with one another.\\nActing justly means avoiding inequality.\\nIndividuals with this are usually interested in protecting individuality.\\nThought to be more common among boys because of their need to differentiate between themselves and their mothers.\\nBecause they are separated from their mothers, boys become more concerned with the concept of inequality.\\nThe Carol Gilligan’s theory can be better understood if explained with an example.\\n\\nIn a\\xa0Justice-based perspective, the solution to the problem is viewed as a conflict between two individual groups. Only one of them can have the property. Either moles or the porcupine will get the place in the burrow. Hence the solution to the dilemma, is not a resolution of the conflict, it is a verdict.\\nIn a\\xa0Care-based perspective, the approach differs. The problem is viewed as a difficult situation faced by both the parties together, rather than a fight between both of them. Hence the solution is sought in a way around the problem or to remove the problem completely. The solution may sound compromising but not damaging. The relationship will still be the same, after the resolution.\\nResearchers found that Justice-based perspective is pre-dominant among males while Care-based prospective is among females.\\n\\n'"
      ]
     },
     "execution_count": 96,
     "metadata": {},
     "output_type": "execute_result"
    }
   ],
   "source": [
    "file_data"
   ]
  },
  {
   "cell_type": "markdown",
   "metadata": {},
   "source": [
    "our RESPONSE_JSON is in dictionary format so we have to change it into the json format"
   ]
  },
  {
   "cell_type": "code",
   "execution_count": 97,
   "metadata": {},
   "outputs": [
    {
     "data": {
      "text/plain": [
       "'{\"1\": {\"question\": \"the mcq question\", \"options\": {\"A\": \"choice here\", \"B\": \"choice here\", \"C\": \"choice here\", \"D\": \"choice here\"}, \"correct\": \"correct choice\"}, \"2\": {\"question\": \"the mcq question\", \"options\": {\"A\": \"choice here\", \"B\": \"choice here\", \"C\": \"choice here\", \"D\": \"choice here\"}, \"correct\": \"correct choice\"}, \"3\": {\"question\": \"the mcq question\", \"options\": {\"A\": \"choice here\", \"B\": \"choice here\", \"C\": \"choice here\", \"D\": \"choice here\"}, \"correct\": \"correct choice\"}, \"4\": {\"question\": \"the mcq question\", \"options\": {\"A\": \"choice here\", \"B\": \"choice here\", \"C\": \"choice here\", \"D\": \"choice here\"}, \"correct\": \"correct choice\"}}'"
      ]
     },
     "execution_count": 97,
     "metadata": {},
     "output_type": "execute_result"
    }
   ],
   "source": [
    "json.dumps(RESPONSE_JSON)"
   ]
  },
  {
   "cell_type": "code",
   "execution_count": 98,
   "metadata": {},
   "outputs": [],
   "source": [
    "number = 5\n",
    "subject = 'english'\n",
    "level = 'intermediate'"
   ]
  },
  {
   "cell_type": "markdown",
   "metadata": {},
   "source": [
    "### get_openai_callback \n",
    "\n",
    "Tell about the tokens which are used : prompt token, completion token and price"
   ]
  },
  {
   "cell_type": "code",
   "execution_count": 100,
   "metadata": {},
   "outputs": [],
   "source": [
    "with get_openai_callback() as cb :\n",
    "    \n",
    "    response = final_chain(\n",
    "        {\n",
    "            'text' : file_data,\n",
    "            'number' : number,\n",
    "            'subject' : subject,\n",
    "            'level' : level,\n",
    "            'response_json' : json.dumps(RESPONSE_JSON)\n",
    "        }\n",
    "    )"
   ]
  },
  {
   "cell_type": "markdown",
   "metadata": {},
   "source": []
  },
  {
   "cell_type": "code",
   "execution_count": 101,
   "metadata": {},
   "outputs": [
    {
     "data": {
      "text/plain": [
       "Tokens Used: 1733\n",
       "\tPrompt Tokens: 1099\n",
       "\tCompletion Tokens: 634\n",
       "Successful Requests: 2\n",
       "Total Cost (USD): $0.0029165"
      ]
     },
     "execution_count": 101,
     "metadata": {},
     "output_type": "execute_result"
    }
   ],
   "source": [
    "cb"
   ]
  },
  {
   "cell_type": "code",
   "execution_count": 102,
   "metadata": {},
   "outputs": [
    {
     "data": {
      "text/plain": [
       "{'text': 'Levels of Thinking\\nCarol Gilligan states that the post-conventional level of moral thinking can be dealt based on the\\xa0two types of thinking. Gilligan’s theory is based on the two main ideas, the care-based morality (usually found in women) and the justice-based morality (usually found in men).\\n\\nCare-based Morality\\nCare-based morality is the kind of thinking found in women. This is based on the following principles.\\nMore emphasis is given to inter-connected relationships and universality.\\nActing justly focuses on avoidance of violence.\\nWomen with this are usually interested in helping others.\\nMore common in girls because of their connections to their mothers.\\nBecause girls remain connected to their mothers, they are less inclined to worry about issues of fairness.\\n\\nJustice-based Morality\\nJustice-based morality is the kind of thinking found in men. This is based on the following principles.\\nThey view the world as being composed of autonomous individuals who interact with one another.\\nActing justly means avoiding inequality.\\nIndividuals with this are usually interested in protecting individuality.\\nThought to be more common among boys because of their need to differentiate between themselves and their mothers.\\nBecause they are separated from their mothers, boys become more concerned with the concept of inequality.\\nThe Carol Gilligan’s theory can be better understood if explained with an example.\\n\\nIn a\\xa0Justice-based perspective, the solution to the problem is viewed as a conflict between two individual groups. Only one of them can have the property. Either moles or the porcupine will get the place in the burrow. Hence the solution to the dilemma, is not a resolution of the conflict, it is a verdict.\\nIn a\\xa0Care-based perspective, the approach differs. The problem is viewed as a difficult situation faced by both the parties together, rather than a fight between both of them. Hence the solution is sought in a way around the problem or to remove the problem completely. The solution may sound compromising but not damaging. The relationship will still be the same, after the resolution.\\nResearchers found that Justice-based perspective is pre-dominant among males while Care-based prospective is among females.\\n\\n',\n",
       " 'number': 5,\n",
       " 'subject': 'english',\n",
       " 'level': 'intermediate',\n",
       " 'response_json': '{\"1\": {\"question\": \"the mcq question\", \"options\": {\"A\": \"choice here\", \"B\": \"choice here\", \"C\": \"choice here\", \"D\": \"choice here\"}, \"correct\": \"correct choice\"}, \"2\": {\"question\": \"the mcq question\", \"options\": {\"A\": \"choice here\", \"B\": \"choice here\", \"C\": \"choice here\", \"D\": \"choice here\"}, \"correct\": \"correct choice\"}, \"3\": {\"question\": \"the mcq question\", \"options\": {\"A\": \"choice here\", \"B\": \"choice here\", \"C\": \"choice here\", \"D\": \"choice here\"}, \"correct\": \"correct choice\"}, \"4\": {\"question\": \"the mcq question\", \"options\": {\"A\": \"choice here\", \"B\": \"choice here\", \"C\": \"choice here\", \"D\": \"choice here\"}, \"correct\": \"correct choice\"}}',\n",
       " 'quiz': '{\"1\": {\"question\": \"According to Carol Gilligan, care-based morality is usually found in ________.\", \"options\": {\"A\": \"men\", \"B\": \"women\", \"C\": \"boys\", \"D\": \"girls\"}, \"correct\": \"B\"}, \\n\"2\": {\"question\": \"What is the main focus of care-based morality?\", \"options\": {\"A\": \"Avoidance of violence\", \"B\": \"Inter-connected relationships and universality\", \"C\": \"Protecting individuality\", \"D\": \"Differentiation between themselves and their mothers\"}, \"correct\": \"B\"}, \\n\"3\": {\"question\": \"According to Gilligan\\'s theory, justice-based morality is usually found in ________.\", \"options\": {\"A\": \"men\", \"B\": \"women\", \"C\": \"boys\", \"D\": \"girls\"}, \"correct\": \"A\"}, \\n\"4\": {\"question\": \"What is the main focus of justice-based morality?\", \"options\": {\"A\": \"Avoidance of violence\", \"B\": \"Inter-connected relationships and universality\", \"C\": \"Protecting individuality\", \"D\": \"Differentiation between themselves and their mothers\"}, \"correct\": \"C\"}, \\n\"5\": {\"question\": \"Which perspective views a problem as a conflict between two individual groups?\", \"options\": {\"A\": \"Care-based perspective\", \"B\": \"Justice-based perspective\", \"C\": \"Both perspectives\", \"D\": \"Neither perspective\"}, \"correct\": \"B\"}}',\n",
       " 'complexity': 'To analyze the complexity of the quiz questions in the given quiz, we can consider several factors:\\n\\n1. Language Complexity: Evaluate the vocabulary, sentence structure, and grammar used in the questions. Are the questions written in a clear and concise manner? Are there any complex or unfamiliar words that might confuse the student?\\n\\n2. Conceptual Complexity: Assess the difficulty of the concepts being tested in the quiz. Are the questions based on fundamental knowledge or do they require a deeper understanding of the subject matter? Are the concepts explained adequately in the quiz?\\n\\n3. Cognitive Load: Consider the cognitive load imposed by the questions. Are the questions straightforward or do they involve multiple steps or complex reasoning? Are there any distractors or unnecessary information that might increase the cognitive load?\\n\\n4. Cultural Sensitivity: Ensure that the questions are culturally sensitive and do not contain any biased or discriminatory content.\\n\\nBased on the analysis, if the quiz is found to be too complex for the cognitive ability of the students, the following modifications can be made:\\n\\n1. Simplify Language: Use simpler vocabulary, sentence structures, and grammar to make the questions more accessible to the students.\\n\\n2. Clarify Concepts: Provide additional explanations or examples to help students understand the concepts being tested.\\n\\n3. Reduce Cognitive Load: Remove any unnecessary complexity, such as excessive steps or distractors, to make the questions more manageable for the students.\\n\\n4. Review Cultural Sensitivity: Ensure that the questions are inclusive and do not perpetuate stereotypes or biases.\\n\\nBy making these modifications, the quiz can be adjusted to better fit the cognitive ability of the students and enhance their learning experience.'}"
      ]
     },
     "execution_count": 102,
     "metadata": {},
     "output_type": "execute_result"
    }
   ],
   "source": [
    "response"
   ]
  },
  {
   "cell_type": "code",
   "execution_count": 104,
   "metadata": {},
   "outputs": [],
   "source": [
    "quiz = response.get('quiz')"
   ]
  },
  {
   "cell_type": "code",
   "execution_count": 109,
   "metadata": {},
   "outputs": [],
   "source": [
    "quiz = json.loads(quiz)"
   ]
  },
  {
   "cell_type": "code",
   "execution_count": 116,
   "metadata": {},
   "outputs": [
    {
     "data": {
      "text/plain": [
       "dict_items([('1', {'question': 'According to Carol Gilligan, care-based morality is usually found in ________.', 'options': {'A': 'men', 'B': 'women', 'C': 'boys', 'D': 'girls'}, 'correct': 'B'}), ('2', {'question': 'What is the main focus of care-based morality?', 'options': {'A': 'Avoidance of violence', 'B': 'Inter-connected relationships and universality', 'C': 'Protecting individuality', 'D': 'Differentiation between themselves and their mothers'}, 'correct': 'B'}), ('3', {'question': \"According to Gilligan's theory, justice-based morality is usually found in ________.\", 'options': {'A': 'men', 'B': 'women', 'C': 'boys', 'D': 'girls'}, 'correct': 'A'}), ('4', {'question': 'What is the main focus of justice-based morality?', 'options': {'A': 'Avoidance of violence', 'B': 'Inter-connected relationships and universality', 'C': 'Protecting individuality', 'D': 'Differentiation between themselves and their mothers'}, 'correct': 'C'}), ('5', {'question': 'Which perspective views a problem as a conflict between two individual groups?', 'options': {'A': 'Care-based perspective', 'B': 'Justice-based perspective', 'C': 'Both perspectives', 'D': 'Neither perspective'}, 'correct': 'B'})])"
      ]
     },
     "execution_count": 116,
     "metadata": {},
     "output_type": "execute_result"
    }
   ],
   "source": [
    "quiz.items()"
   ]
  },
  {
   "cell_type": "code",
   "execution_count": 115,
   "metadata": {},
   "outputs": [
    {
     "data": {
      "text/plain": [
       "dict_items([('question', 'According to Carol Gilligan, care-based morality is usually found in ________.'), ('options', {'A': 'men', 'B': 'women', 'C': 'boys', 'D': 'girls'}), ('correct', 'B')])"
      ]
     },
     "execution_count": 115,
     "metadata": {},
     "output_type": "execute_result"
    }
   ],
   "source": [
    "quiz['1'].items()"
   ]
  },
  {
   "cell_type": "code",
   "execution_count": 119,
   "metadata": {},
   "outputs": [
    {
     "name": "stdout",
     "output_type": "stream",
     "text": [
      "7   2\n"
     ]
    }
   ],
   "source": [
    "print(7,\" \",2)"
   ]
  },
  {
   "cell_type": "code",
   "execution_count": 124,
   "metadata": {},
   "outputs": [
    {
     "data": {
      "text/plain": [
       "'a|k|r|t'"
      ]
     },
     "execution_count": 124,
     "metadata": {},
     "output_type": "execute_result"
    }
   ],
   "source": [
    "'|'.join(['a','k','r','t'])"
   ]
  },
  {
   "cell_type": "code",
   "execution_count": 128,
   "metadata": {},
   "outputs": [
    {
     "name": "stdout",
     "output_type": "stream",
     "text": [
      "1  |  {'question': 'According to Carol Gilligan, care-based morality is usually found in ________.', 'options': {'A': 'men', 'B': 'women', 'C': 'boys', 'D': 'girls'}, 'correct': 'B'}\n",
      "2  |  {'question': 'What is the main focus of care-based morality?', 'options': {'A': 'Avoidance of violence', 'B': 'Inter-connected relationships and universality', 'C': 'Protecting individuality', 'D': 'Differentiation between themselves and their mothers'}, 'correct': 'B'}\n",
      "3  |  {'question': \"According to Gilligan's theory, justice-based morality is usually found in ________.\", 'options': {'A': 'men', 'B': 'women', 'C': 'boys', 'D': 'girls'}, 'correct': 'A'}\n",
      "4  |  {'question': 'What is the main focus of justice-based morality?', 'options': {'A': 'Avoidance of violence', 'B': 'Inter-connected relationships and universality', 'C': 'Protecting individuality', 'D': 'Differentiation between themselves and their mothers'}, 'correct': 'C'}\n",
      "5  |  {'question': 'Which perspective views a problem as a conflict between two individual groups?', 'options': {'A': 'Care-based perspective', 'B': 'Justice-based perspective', 'C': 'Both perspectives', 'D': 'Neither perspective'}, 'correct': 'B'}\n"
     ]
    }
   ],
   "source": [
    "\n",
    "table = []\n",
    "\n",
    "for key,value in quiz.items():\n",
    "    \n",
    "    print(key,\" | \",value)\n",
    "    \n",
    "    ques = value['question']\n",
    "    options = ' | '.join( \n",
    "        [\n",
    "            f\"{option} : {options}\"\n",
    "            for option, options in value['options'].items()\n",
    "            \n",
    "            ]\n",
    "        )\n",
    "    correct = value['correct']\n",
    "    table.append({'ques':ques,'options' : options, 'correct' : correct})\n",
    "\n",
    "\n",
    "     \n",
    "    "
   ]
  },
  {
   "cell_type": "code",
   "execution_count": 129,
   "metadata": {},
   "outputs": [
    {
     "data": {
      "text/plain": [
       "[{'ques': 'According to Carol Gilligan, care-based morality is usually found in ________.',\n",
       "  'options': 'A : men | B : women | C : boys | D : girls',\n",
       "  'correct': 'B'},\n",
       " {'ques': 'What is the main focus of care-based morality?',\n",
       "  'options': 'A : Avoidance of violence | B : Inter-connected relationships and universality | C : Protecting individuality | D : Differentiation between themselves and their mothers',\n",
       "  'correct': 'B'},\n",
       " {'ques': \"According to Gilligan's theory, justice-based morality is usually found in ________.\",\n",
       "  'options': 'A : men | B : women | C : boys | D : girls',\n",
       "  'correct': 'A'},\n",
       " {'ques': 'What is the main focus of justice-based morality?',\n",
       "  'options': 'A : Avoidance of violence | B : Inter-connected relationships and universality | C : Protecting individuality | D : Differentiation between themselves and their mothers',\n",
       "  'correct': 'C'},\n",
       " {'ques': 'Which perspective views a problem as a conflict between two individual groups?',\n",
       "  'options': 'A : Care-based perspective | B : Justice-based perspective | C : Both perspectives | D : Neither perspective',\n",
       "  'correct': 'B'}]"
      ]
     },
     "execution_count": 129,
     "metadata": {},
     "output_type": "execute_result"
    }
   ],
   "source": [
    "table"
   ]
  },
  {
   "cell_type": "code",
   "execution_count": 133,
   "metadata": {},
   "outputs": [
    {
     "data": {
      "text/html": [
       "<div>\n",
       "<style scoped>\n",
       "    .dataframe tbody tr th:only-of-type {\n",
       "        vertical-align: middle;\n",
       "    }\n",
       "\n",
       "    .dataframe tbody tr th {\n",
       "        vertical-align: top;\n",
       "    }\n",
       "\n",
       "    .dataframe thead th {\n",
       "        text-align: right;\n",
       "    }\n",
       "</style>\n",
       "<table border=\"1\" class=\"dataframe\">\n",
       "  <thead>\n",
       "    <tr style=\"text-align: right;\">\n",
       "      <th></th>\n",
       "      <th>ques</th>\n",
       "      <th>options</th>\n",
       "      <th>correct</th>\n",
       "    </tr>\n",
       "  </thead>\n",
       "  <tbody>\n",
       "    <tr>\n",
       "      <th>0</th>\n",
       "      <td>According to Carol Gilligan, care-based morali...</td>\n",
       "      <td>A : men | B : women | C : boys | D : girls</td>\n",
       "      <td>B</td>\n",
       "    </tr>\n",
       "    <tr>\n",
       "      <th>1</th>\n",
       "      <td>What is the main focus of care-based morality?</td>\n",
       "      <td>A : Avoidance of violence | B : Inter-connecte...</td>\n",
       "      <td>B</td>\n",
       "    </tr>\n",
       "    <tr>\n",
       "      <th>2</th>\n",
       "      <td>According to Gilligan's theory, justice-based ...</td>\n",
       "      <td>A : men | B : women | C : boys | D : girls</td>\n",
       "      <td>A</td>\n",
       "    </tr>\n",
       "    <tr>\n",
       "      <th>3</th>\n",
       "      <td>What is the main focus of justice-based morality?</td>\n",
       "      <td>A : Avoidance of violence | B : Inter-connecte...</td>\n",
       "      <td>C</td>\n",
       "    </tr>\n",
       "    <tr>\n",
       "      <th>4</th>\n",
       "      <td>Which perspective views a problem as a conflic...</td>\n",
       "      <td>A : Care-based perspective | B : Justice-based...</td>\n",
       "      <td>B</td>\n",
       "    </tr>\n",
       "  </tbody>\n",
       "</table>\n",
       "</div>"
      ],
      "text/plain": [
       "                                                ques  \\\n",
       "0  According to Carol Gilligan, care-based morali...   \n",
       "1     What is the main focus of care-based morality?   \n",
       "2  According to Gilligan's theory, justice-based ...   \n",
       "3  What is the main focus of justice-based morality?   \n",
       "4  Which perspective views a problem as a conflic...   \n",
       "\n",
       "                                             options correct  \n",
       "0         A : men | B : women | C : boys | D : girls       B  \n",
       "1  A : Avoidance of violence | B : Inter-connecte...       B  \n",
       "2         A : men | B : women | C : boys | D : girls       A  \n",
       "3  A : Avoidance of violence | B : Inter-connecte...       C  \n",
       "4  A : Care-based perspective | B : Justice-based...       B  "
      ]
     },
     "execution_count": 133,
     "metadata": {},
     "output_type": "execute_result"
    }
   ],
   "source": [
    "quiz = pd.DataFrame(table)\n",
    "quiz"
   ]
  },
  {
   "cell_type": "code",
   "execution_count": 135,
   "metadata": {},
   "outputs": [],
   "source": [
    "quiz.to_csv(\"PEHV.csv\")"
   ]
  },
  {
   "cell_type": "code",
   "execution_count": null,
   "metadata": {},
   "outputs": [],
   "source": []
  }
 ],
 "metadata": {
  "kernelspec": {
   "display_name": "Python 3",
   "language": "python",
   "name": "python3"
  },
  "language_info": {
   "codemirror_mode": {
    "name": "ipython",
    "version": 3
   },
   "file_extension": ".py",
   "mimetype": "text/x-python",
   "name": "python",
   "nbconvert_exporter": "python",
   "pygments_lexer": "ipython3",
   "version": "3.9.18"
  }
 },
 "nbformat": 4,
 "nbformat_minor": 2
}
